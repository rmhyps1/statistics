{
  "nbformat": 4,
  "nbformat_minor": 0,
  "metadata": {
    "colab": {
      "provenance": [],
      "authorship_tag": "ABX9TyNEryzPAtDMUMTm1JJxq+wG",
      "include_colab_link": true
    },
    "kernelspec": {
      "name": "python3",
      "display_name": "Python 3"
    },
    "language_info": {
      "name": "python"
    }
  },
  "cells": [
    {
      "cell_type": "markdown",
      "metadata": {
        "id": "view-in-github",
        "colab_type": "text"
      },
      "source": [
        "<a href=\"https://colab.research.google.com/github/rmhyps1/statistics/blob/main/PROGRES_1.ipynb\" target=\"_parent\"><img src=\"https://colab.research.google.com/assets/colab-badge.svg\" alt=\"Open In Colab\"/></a>"
      ]
    },
    {
      "cell_type": "code",
      "execution_count": 9,
      "metadata": {
        "id": "1QdrOzCp7TcO"
      },
      "outputs": [],
      "source": [
        "import pandas as pd\n",
        "import numpy as np\n",
        "import matplotlib.pyplot as plt\n",
        "import math"
      ]
    },
    {
      "cell_type": "code",
      "source": [
        "# Rumus distribusi frekuensi\n",
        "\n",
        "def distribusi_frekuensi(x, k=\"sturges\"):\n",
        "    n = len(x)\n",
        "    if n == 0:\n",
        "        return [], [], [], [], [], [], []\n",
        "\n",
        "    # gunakan edges dari numpy\n",
        "    edges = np.histogram_bin_edges(x, bins=k)\n",
        "    k = len(edges) - 1\n",
        "    i = edges[1] - edges[0]  # lebar interval\n",
        "\n",
        "    mid = [edges[q] + 0.5 * i for q in range(k)]\n",
        "    f, _ = np.histogram(x, bins=edges)\n",
        "\n",
        "    fr = f / n\n",
        "    fk = np.cumsum(f)\n",
        "    frk = fk / n\n",
        "\n",
        "    rows = []\n",
        "    for q in range(k):\n",
        "        left = edges[q]\n",
        "        right = edges[q+1]\n",
        "        label = f\"[{left}, {right})\" if q < k-1 else f\"[{left}, {right}]\"\n",
        "        rows.append({\n",
        "            \"interval\": label,\n",
        "            \"midpoint\": mid[q],\n",
        "            \"f\": int(f[q]),\n",
        "            \"fr\": fr[q],\n",
        "            \"fk\": int(fk[q]),\n",
        "            \"frk\": frk[q]\n",
        "        })\n",
        "\n",
        "    return rows, edges, mid, f, fr, fk, frk"
      ],
      "metadata": {
        "id": "tCHHV0dT7bCt"
      },
      "execution_count": 10,
      "outputs": []
    },
    {
      "cell_type": "code",
      "source": [
        "# Percobaan menggunakan dataset berat badan\n",
        "data = [128,63,97,134,133,136,125,110,118,94,\n",
        "        76,84,132,105,80,87,100,77,120,109,\n",
        "        90,72,103,78,94,118,117,80,140,94]\n",
        "\n",
        "n = len(data)\n",
        "\n",
        "# edges & counts pakai aturan Sturges\n",
        "edges = np.histogram_bin_edges(data, bins=\"sturges\")\n",
        "counts, edges = np.histogram(data, bins=edges)\n",
        "\n",
        "# hitung nilai tengah tiap kelas\n",
        "mid = (edges[:-1] + edges[1:]) / 2.0\n",
        "\n",
        "# frekuensi relatif & kumulatif\n",
        "fk = np.cumsum(counts)\n",
        "fr = counts / n\n",
        "frk = fk / n\n",
        "\n",
        "# buat tabel\n",
        "rows = []\n",
        "for left, right, m, c, r, cum, rcum in zip(edges[:-1], edges[1:], mid, counts, fr, fk, frk):\n",
        "    left_str = f\"{left:g}\"\n",
        "    right_str = f\"{right:g}\"\n",
        "    label = f\"[{left_str}, {right_str})\"\n",
        "    rows.append({\n",
        "        \"interval\": label,\n",
        "        \"midpoint\": m,\n",
        "        \"f\": int(c),\n",
        "        \"fr\": float(r),\n",
        "        \"fk\": int(cum),\n",
        "        \"frk\": float(rcum)\n",
        "    })\n",
        "df = pd.DataFrame(rows)\n",
        "\n",
        "# tampilkan rapi\n",
        "df_print = pd.DataFrame({\n",
        "    \"Interval\": df[\"interval\"],\n",
        "    \"Midpoint\": df[\"midpoint\"].map(lambda x: f\"{x:8.1f}\"),\n",
        "    \"f\": df[\"f\"].map(lambda x: f\"{x:4d}\"),\n",
        "    \"fr\": df[\"fr\"].map(lambda x: f\"{x:8.4f}\"),\n",
        "    \"fk\": df[\"fk\"].map(lambda x: f\"{x:4d}\"),\n",
        "    \"frk\": df[\"frk\"].map(lambda x: f\"{x:8.4f}\")\n",
        "})\n",
        "\n",
        "# cetak ringkasan\n",
        "print(f\"\\nn = {n}, k = {len(counts)}\")  # k dari histogram (aturan Sturges)\n",
        "interval_widths = np.diff(edges)        # lebar tiap kelas\n",
        "print(f\"Interval width i ≈ {interval_widths[0]:.2f}\\n\")  # ambil lebar pertama\n",
        "\n",
        "print(df_print.to_string(index=False))"
      ],
      "metadata": {
        "colab": {
          "base_uri": "https://localhost:8080/"
        },
        "id": "BHASfxd97zA1",
        "outputId": "aa6bd957-3db2-4d32-ce8e-a793982b700b"
      },
      "execution_count": 11,
      "outputs": [
        {
          "output_type": "stream",
          "name": "stdout",
          "text": [
            "\n",
            "n = 30, k = 6\n",
            "Interval width i ≈ 12.83\n",
            "\n",
            "          Interval Midpoint    f       fr   fk      frk\n",
            "     [63, 75.8333)     69.4    2   0.0667    2   0.0667\n",
            "[75.8333, 88.6667)     82.2    7   0.2333    9   0.3000\n",
            "  [88.6667, 101.5)     95.1    6   0.2000   15   0.5000\n",
            "  [101.5, 114.333)    107.9    4   0.1333   19   0.6333\n",
            "[114.333, 127.167)    120.8    5   0.1667   24   0.8000\n",
            "    [127.167, 140)    133.6    6   0.2000   30   1.0000\n"
          ]
        }
      ]
    },
    {
      "cell_type": "code",
      "source": [
        "import pandas as pd\n",
        "import numpy as np\n",
        "\n",
        "#Membaca data\n",
        "file_path = '/content/Most Streamed Spotify Songs 2024.csv'\n",
        "df = pd.read_csv(file_path, encoding='latin1')\n",
        "\n",
        "#klolom target\n",
        "kolom_numerik = 'Spotify Streams'\n",
        "\n",
        "#Bersihin data -> buang koma biar bisa jadi angka\n",
        "df[kolom_numerik] = df[kolom_numerik].replace(\",\", \"\", regex=True).astype(float)\n",
        "\n",
        "#mengambil data numerik & drop NaN\n",
        "data = df[kolom_numerik].dropna().values\n",
        "\n",
        "# 5. Tentuin jumlah interval (k) pakai Sturges atau manual\n",
        "n = len(data)\n",
        "k = int(1 + 3.3 * np.log10(n))   # aturan Sturges\n",
        "\n",
        "# 6. Hitung min, max, range, interval\n",
        "min_val = data.min()\n",
        "max_val = data.max()\n",
        "range_val = max_val - min_val\n",
        "interval = np.ceil(range_val / k)\n",
        "\n",
        "# 7. Bikin batas interval\n",
        "bins = [min_val + i*interval for i in range(k+1)]\n",
        "\n",
        "# 8. Hitung frekuensi pakai np.histogram\n",
        "freq, edges = np.histogram(data, bins=bins)\n",
        "\n",
        "# 9. Hitung titik tengah interval\n",
        "midpoints = (edges[:-1] + edges[1:]) / 2\n",
        "\n",
        "# 10. Frekuensi relatif & kumulatif\n",
        "rel_freq = freq / freq.sum()\n",
        "cum_freq = np.cumsum(freq)\n",
        "\n",
        "# 11. Buat tabel hasil\n",
        "tabel = pd.DataFrame({\n",
        "    'Interval': [f'{int(edges[i])} - {int(edges[i+1])}' for i in range(len(freq))],\n",
        "    'Titik Tengah (m)': [f\"{int(m):,}\" for m in midpoints],\n",
        "    'Frekuensi (f)': freq,\n",
        "    'Frekuansi Relatif (fr)': np.round(rel_freq, 4),\n",
        "    'Frekuensi Kumulatif (fk)': cum_freq\n",
        "})\n",
        "\n",
        "print(\"Distribusi Frekuensi Spotify Streams\")\n",
        "print(tabel)\n"
      ],
      "metadata": {
        "colab": {
          "base_uri": "https://localhost:8080/"
        },
        "id": "Lutqb8pg9M-n",
        "outputId": "fc75be89-4a54-4698-e05f-0d648a01a742"
      },
      "execution_count": 12,
      "outputs": [
        {
          "output_type": "stream",
          "name": "stdout",
          "text": [
            "Distribusi Frekuensi Spotify Streams\n",
            "                   Interval Titik Tengah (m)  Frekuensi (f)  \\\n",
            "0          1071 - 329344737      164,672,904           2578   \n",
            "1     329344737 - 658688403      494,016,570            845   \n",
            "2     658688403 - 988032069      823,360,236            451   \n",
            "3    988032069 - 1317375735    1,152,703,902            239   \n",
            "4   1317375735 - 1646719401    1,482,047,568            168   \n",
            "5   1646719401 - 1976063067    1,811,391,234            101   \n",
            "6   1976063067 - 2305406733    2,140,734,900             59   \n",
            "7   2305406733 - 2634750399    2,470,078,566             24   \n",
            "8   2634750399 - 2964094065    2,799,422,232              6   \n",
            "9   2964094065 - 3293437731    3,128,765,898              8   \n",
            "10  3293437731 - 3622781397    3,458,109,564              4   \n",
            "11  3622781397 - 3952125063    3,787,453,230              2   \n",
            "12  3952125063 - 4281468729    4,116,796,896              2   \n",
            "\n",
            "    Frekuansi Relatif (fr)  Frekuensi Kumulatif (fk)  \n",
            "0                   0.5745                      2578  \n",
            "1                   0.1883                      3423  \n",
            "2                   0.1005                      3874  \n",
            "3                   0.0533                      4113  \n",
            "4                   0.0374                      4281  \n",
            "5                   0.0225                      4382  \n",
            "6                   0.0131                      4441  \n",
            "7                   0.0053                      4465  \n",
            "8                   0.0013                      4471  \n",
            "9                   0.0018                      4479  \n",
            "10                  0.0009                      4483  \n",
            "11                  0.0004                      4485  \n",
            "12                  0.0004                      4487  \n"
          ]
        }
      ]
    }
  ]
}