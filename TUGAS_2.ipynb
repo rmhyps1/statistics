{
  "nbformat": 4,
  "nbformat_minor": 0,
  "metadata": {
    "colab": {
      "provenance": [],
      "authorship_tag": "ABX9TyPP+XLQKNtJglWuZANrxEbq",
      "include_colab_link": true
    },
    "kernelspec": {
      "name": "python3",
      "display_name": "Python 3"
    },
    "language_info": {
      "name": "python"
    }
  },
  "cells": [
    {
      "cell_type": "markdown",
      "metadata": {
        "id": "view-in-github",
        "colab_type": "text"
      },
      "source": [
        "<a href=\"https://colab.research.google.com/github/rmhyps1/statistics/blob/main/TUGAS_2.ipynb\" target=\"_parent\"><img src=\"https://colab.research.google.com/assets/colab-badge.svg\" alt=\"Open In Colab\"/></a>"
      ]
    },
    {
      "cell_type": "markdown",
      "source": [
        "##UJI COBA MEAN DATA BERAT BADAN"
      ],
      "metadata": {
        "id": "KqbRZuxCJkhb"
      }
    },
    {
      "cell_type": "code",
      "execution_count": null,
      "metadata": {
        "colab": {
          "base_uri": "https://localhost:8080/"
        },
        "id": "1QvdnIGQJM1Y",
        "outputId": "84df1fc9-ed56-4a1b-cb86-a8d51778da63"
      },
      "outputs": [
        {
          "output_type": "stream",
          "name": "stdout",
          "text": [
            "Rata-rata berat badan = 103.13333333333334\n"
          ]
        }
      ],
      "source": [
        "def MeanData(x):\n",
        "    jumlah = 0\n",
        "    n = len(x)\n",
        "    for i in range(n):\n",
        "        jumlah += x[i]\n",
        "    mean = jumlah / n\n",
        "    return mean\n",
        "\n",
        "# Data berat badan (kg)\n",
        "data = [128, 63, 97, 134, 133, 136, 125, 110, 118, 94,\n",
        "        76, 84, 132, 105, 80, 87, 100, 77, 120, 109,\n",
        "        90, 72, 103, 78, 94, 118, 117, 80, 140, 94]\n",
        "\n",
        "# Hitung rata-rata\n",
        "hasil = MeanData(data)\n",
        "print(\"Rata-rata berat badan =\", hasil)\n"
      ]
    }
  ]
}