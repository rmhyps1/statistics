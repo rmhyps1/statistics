{
  "nbformat": 4,
  "nbformat_minor": 0,
  "metadata": {
    "colab": {
      "provenance": [],
      "authorship_tag": "ABX9TyMkAb7iepjlf+NQuECeY1xS",
      "include_colab_link": true
    },
    "kernelspec": {
      "name": "python3",
      "display_name": "Python 3"
    },
    "language_info": {
      "name": "python"
    }
  },
  "cells": [
    {
      "cell_type": "markdown",
      "metadata": {
        "id": "view-in-github",
        "colab_type": "text"
      },
      "source": [
        "<a href=\"https://colab.research.google.com/github/rmhyps1/statistics/blob/main/TUGAS_2.ipynb\" target=\"_parent\"><img src=\"https://colab.research.google.com/assets/colab-badge.svg\" alt=\"Open In Colab\"/></a>"
      ]
    },
    {
      "cell_type": "markdown",
      "source": [
        "##UJI COBA MEAN DATA BERAT BADAN"
      ],
      "metadata": {
        "id": "KqbRZuxCJkhb"
      }
    },
    {
      "cell_type": "code",
      "execution_count": null,
      "metadata": {
        "colab": {
          "base_uri": "https://localhost:8080/"
        },
        "id": "1QvdnIGQJM1Y",
        "outputId": "84df1fc9-ed56-4a1b-cb86-a8d51778da63"
      },
      "outputs": [
        {
          "output_type": "stream",
          "name": "stdout",
          "text": [
            "Rata-rata berat badan = 103.13333333333334\n"
          ]
        }
      ],
      "source": [
        "def MeanData(x):\n",
        "    jumlah = 0\n",
        "    n = len(x)\n",
        "    for i in range(n):\n",
        "        jumlah += x[i]\n",
        "    mean = jumlah / n\n",
        "    return mean\n",
        "\n",
        "# Data berat badan (kg)\n",
        "data = [128, 63, 97, 134, 133, 136, 125, 110, 118, 94,\n",
        "        76, 84, 132, 105, 80, 87, 100, 77, 120, 109,\n",
        "        90, 72, 103, 78, 94, 118, 117, 80, 140, 94]\n",
        "\n",
        "# Hitung rata-rata\n",
        "hasil = MeanData(data)\n",
        "print(\"Rata-rata berat badan =\", hasil)\n"
      ]
    },
    {
      "cell_type": "markdown",
      "source": [
        "##IMPLEMENTASI MENGGUNAKAN DATASET DARI KAGGLE\n"
      ],
      "metadata": {
        "id": "mRc2KbEn8zre"
      }
    },
    {
      "cell_type": "code",
      "source": [
        "import pandas as pd\n",
        "\n",
        "file_path = \"/content/Most Streamed Spotify Songs 2024.csv\"\n",
        "df = pd.read_csv(file_path, encoding=\"latin-1\")\n",
        "\n",
        "data_popularity = df[\"Spotify Popularity\"].dropna().tolist()\n",
        "\n",
        "\n",
        "def MeanData(x):\n",
        "    jumlah = 0\n",
        "    for i in range(len(x)):\n",
        "        jumlah = jumlah + x[i]\n",
        "    mean = jumlah / len(x)\n",
        "    return mean\n",
        "\n",
        "hasil_mean = MeanData(data_popularity)\n",
        "jumlah_lagu = len(data_popularity)\n",
        "print(\"Jumlah lagu: \", jumlah_lagu)\n",
        "print(\"Nilai rata-rata Spotify Popularity =\", hasil_mean)"
      ],
      "metadata": {
        "id": "SN6fRm2-8C6R",
        "outputId": "5080435f-c58f-4ce3-d064-389f5302eb78",
        "colab": {
          "base_uri": "https://localhost:8080/"
        }
      },
      "execution_count": 5,
      "outputs": [
        {
          "output_type": "stream",
          "name": "stdout",
          "text": [
            "Jumlah lagu:  3796\n",
            "Nilai rata-rata Spotify Popularity = 63.50158061116965\n"
          ]
        }
      ]
    }
  ]
}