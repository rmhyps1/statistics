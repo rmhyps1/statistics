{
  "nbformat": 4,
  "nbformat_minor": 0,
  "metadata": {
    "colab": {
      "provenance": [],
      "authorship_tag": "ABX9TyNUYnk9NFMOYRoVkOL9hVer",
      "include_colab_link": true
    },
    "kernelspec": {
      "name": "python3",
      "display_name": "Python 3"
    },
    "language_info": {
      "name": "python"
    }
  },
  "cells": [
    {
      "cell_type": "markdown",
      "metadata": {
        "id": "view-in-github",
        "colab_type": "text"
      },
      "source": [
        "<a href=\"https://colab.research.google.com/github/rmhyps1/statistics/blob/main/PROGRES_1.ipynb\" target=\"_parent\"><img src=\"https://colab.research.google.com/assets/colab-badge.svg\" alt=\"Open In Colab\"/></a>"
      ]
    },
    {
      "cell_type": "code",
      "execution_count": 3,
      "metadata": {
        "id": "1QdrOzCp7TcO"
      },
      "outputs": [],
      "source": [
        "import pandas as pd\n",
        "import numpy as np"
      ]
    },
    {
      "cell_type": "code",
      "source": [
        "# Rumus distribusi frekuensi\n",
        "\n",
        "def distribusi_frekuensi(x, k=\"sturges\"):\n",
        "    n = len(x)\n",
        "    if n == 0:\n",
        "        return [], [], [], [], [], [], []\n",
        "\n",
        "    # gunakan edges dari numpy\n",
        "    edges = np.histogram_bin_edges(x, bins=k)\n",
        "    k = len(edges) - 1\n",
        "    i = edges[1] - edges[0]  # lebar interval\n",
        "\n",
        "    mid = [edges[q] + 0.5 * i for q in range(k)]\n",
        "    f, _ = np.histogram(x, bins=edges)\n",
        "\n",
        "    fr = f / n\n",
        "    fk = np.cumsum(f)\n",
        "    frk = fk / n\n",
        "\n",
        "    rows = []\n",
        "    for q in range(k):\n",
        "        left = edges[q]\n",
        "        right = edges[q+1]\n",
        "        label = f\"[{left}, {right})\" if q < k-1 else f\"[{left}, {right}]\"\n",
        "        rows.append({\n",
        "            \"interval\": label,\n",
        "            \"midpoint\": mid[q],\n",
        "            \"f\": int(f[q]),\n",
        "            \"fr\": fr[q],\n",
        "            \"fk\": int(fk[q]),\n",
        "            \"frk\": frk[q]\n",
        "        })\n",
        "\n",
        "    return rows, edges, mid, f, fr, fk, frk"
      ],
      "metadata": {
        "id": "tCHHV0dT7bCt"
      },
      "execution_count": 4,
      "outputs": []
    },
    {
      "cell_type": "code",
      "source": [
        "# Percobaan menggunakan dataset berat badan\n",
        "data = [128,63,97,134,133,136,125,110,118,94,\n",
        "        76,84,132,105,80,87,100,77,120,109,\n",
        "        90,72,103,78,94,118,117,80,140,94]\n",
        "\n",
        "n = len(data)\n",
        "\n",
        "# edges & counts pakai aturan Sturges\n",
        "edges = np.histogram_bin_edges(data, bins=\"sturges\")\n",
        "counts, edges = np.histogram(data, bins=edges)\n",
        "\n",
        "# hitung nilai tengah tiap kelas\n",
        "mid = (edges[:-1] + edges[1:]) / 2.0\n",
        "\n",
        "# frekuensi relatif & kumulatif\n",
        "fk = np.cumsum(counts)\n",
        "fr = counts / n\n",
        "frk = fk / n\n",
        "\n",
        "# buat tabel\n",
        "rows = []\n",
        "for left, right, m, c, r, cum, rcum in zip(edges[:-1], edges[1:], mid, counts, fr, fk, frk):\n",
        "    left_str = f\"{left:g}\"\n",
        "    right_str = f\"{right:g}\"\n",
        "    label = f\"[{left_str}, {right_str})\"\n",
        "    rows.append({\n",
        "        \"interval\": label,\n",
        "        \"midpoint\": m,\n",
        "        \"f\": int(c),\n",
        "        \"fr\": float(r),\n",
        "        \"fk\": int(cum),\n",
        "        \"frk\": float(rcum)\n",
        "    })\n",
        "df = pd.DataFrame(rows)\n",
        "\n",
        "# tampilkan rapi\n",
        "df_print = pd.DataFrame({\n",
        "    \"Interval\": df[\"interval\"],\n",
        "    \"Midpoint\": df[\"midpoint\"].map(lambda x: f\"{x:8.1f}\"),\n",
        "    \"f\": df[\"f\"].map(lambda x: f\"{x:4d}\"),\n",
        "    \"fr\": df[\"fr\"].map(lambda x: f\"{x:8.4f}\"),\n",
        "    \"fk\": df[\"fk\"].map(lambda x: f\"{x:4d}\"),\n",
        "    \"frk\": df[\"frk\"].map(lambda x: f\"{x:8.4f}\")\n",
        "})\n",
        "\n",
        "# cetak ringkasan\n",
        "print(f\"\\nn = {n}, k = {len(counts)}\")  # k dari histogram (aturan Sturges)\n",
        "interval_widths = np.diff(edges)        # lebar tiap kelas\n",
        "print(f\"Interval width i ≈ {interval_widths[0]:.2f}\\n\")  # ambil lebar pertama\n",
        "\n",
        "print(df_print.to_string(index=False))"
      ],
      "metadata": {
        "colab": {
          "base_uri": "https://localhost:8080/"
        },
        "id": "BHASfxd97zA1",
        "outputId": "aceb8dfb-8e29-4899-ae4b-d9ac8d7c032b"
      },
      "execution_count": 5,
      "outputs": [
        {
          "output_type": "stream",
          "name": "stdout",
          "text": [
            "\n",
            "n = 30, k = 6\n",
            "Interval width i ≈ 12.83\n",
            "\n",
            "          Interval Midpoint    f       fr   fk      frk\n",
            "     [63, 75.8333)     69.4    2   0.0667    2   0.0667\n",
            "[75.8333, 88.6667)     82.2    7   0.2333    9   0.3000\n",
            "  [88.6667, 101.5)     95.1    6   0.2000   15   0.5000\n",
            "  [101.5, 114.333)    107.9    4   0.1333   19   0.6333\n",
            "[114.333, 127.167)    120.8    5   0.1667   24   0.8000\n",
            "    [127.167, 140)    133.6    6   0.2000   30   1.0000\n"
          ]
        }
      ]
    }
  ]
}