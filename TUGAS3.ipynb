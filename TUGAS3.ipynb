{
  "nbformat": 4,
  "nbformat_minor": 0,
  "metadata": {
    "colab": {
      "provenance": [],
      "include_colab_link": true
    },
    "kernelspec": {
      "name": "python3",
      "display_name": "Python 3"
    },
    "language_info": {
      "name": "python"
    }
  },
  "cells": [
    {
      "cell_type": "markdown",
      "metadata": {
        "id": "view-in-github",
        "colab_type": "text"
      },
      "source": [
        "<a href=\"https://colab.research.google.com/github/rmhyps1/statistics/blob/main/TUGAS3.ipynb\" target=\"_parent\"><img src=\"https://colab.research.google.com/assets/colab-badge.svg\" alt=\"Open In Colab\"/></a>"
      ]
    },
    {
      "cell_type": "code",
      "execution_count": 2,
      "metadata": {
        "colab": {
          "base_uri": "https://localhost:8080/"
        },
        "id": "cdJJNviMdSTH",
        "outputId": "c786fee6-f152-474b-d2c2-711f229a309a"
      },
      "outputs": [
        {
          "output_type": "stream",
          "name": "stdout",
          "text": [
            " BAGIAN 1: Varians dan Standar Deviasi (Data Manual) \n",
            "Jumlah data: 30\n",
            "Rata-rata berat badan: 103.13 kg\n",
            "Nilai varian: 467.18\n",
            "Nilai standar deviasi: 21.61\n"
          ]
        }
      ],
      "source": [
        "# Tugas 3 - Implementasi Algoritma Menggunakan Python\n",
        "\n",
        "# Bagian 1 - Data Kasus Manual\n",
        "print(\" BAGIAN 1: Varians dan Standar Deviasi (Data Manual) \")\n",
        "\n",
        "# Data berat badan dalam kg\n",
        "berat_badan = [\n",
        "    128, 63, 97, 134, 133, 136, 125, 110, 118, 94,\n",
        "    76, 84, 132, 105, 80, 87, 100, 77, 120, 109,\n",
        "    90, 72, 103, 78, 94, 118, 117, 80, 140, 94\n",
        "]\n",
        "\n",
        "# Hitung rata-rata\n",
        "rata_rata = sum(berat_badan) / len(berat_badan)\n",
        "\n",
        "# Hitung varians\n",
        "varian = sum((x - rata_rata) ** 2 for x in berat_badan) / len(berat_badan)\n",
        "\n",
        "# Hitung standar deviasi\n",
        "standar_deviasi = varian ** 0.5\n",
        "\n",
        "print(\"Jumlah data:\", len(berat_badan))\n",
        "print(\"Rata-rata berat badan:\", round(rata_rata, 2), \"kg\")\n",
        "print(\"Nilai varian:\", round(varian, 2))\n",
        "print(\"Nilai standar deviasi:\", round(standar_deviasi, 2))"
      ]
    },
    {
      "cell_type": "code",
      "source": [
        "print(\"\\n BAGIAN 2: Uji Coba Dataset Spotify \")\n",
        "\n",
        "import pandas as pd\n",
        "\n",
        "# Load the dataset\n",
        "df = pd.read_csv('/content/Most Streamed Spotify Songs 2024.csv', encoding='latin-1')\n",
        "\n",
        "# Tampilkan data awal\n",
        "print(\"\\nContoh data Spotify:\")\n",
        "print(df.head())\n",
        "\n",
        "# Print columns to identify the correct column name\n",
        "print(\"\\nAvailable columns:\", df.columns.tolist())\n",
        "\n",
        "# Hitung varian dan standar deviasi kolom 'Spotify Streams'\n",
        "# Convert 'Spotify Streams' to numeric, coercing errors and removing commas\n",
        "df['Spotify Streams'] = df['Spotify Streams'].astype(str).str.replace(',', '', regex=False)\n",
        "df['Spotify Streams'] = pd.to_numeric(df['Spotify Streams'], errors='coerce')\n",
        "\n",
        "# Drop rows with NaN in 'Spotify Streams' if any\n",
        "df.dropna(subset=['Spotify Streams'], inplace=True)\n",
        "\n",
        "\n",
        "varian_spotify = df['Spotify Streams'].var()\n",
        "std_spotify = df['Spotify Streams'].std()\n",
        "\n",
        "print(\"\\nVarian (dataset Spotify):\", round(varian_spotify, 2))\n",
        "print(\"Standar deviasi (dataset Spotify):\", round(std_spotify, 2))"
      ],
      "metadata": {
        "id": "4ZUT_QcDLA9e",
        "outputId": "7392bd42-9e11-4c07-8b99-3615d14d6b1b",
        "colab": {
          "base_uri": "https://localhost:8080/"
        }
      },
      "execution_count": 3,
      "outputs": [
        {
          "output_type": "stream",
          "name": "stdout",
          "text": [
            "\n",
            " BAGIAN 2: Uji Coba Dataset Spotify \n",
            "\n",
            "Contoh data Spotify:\n",
            "                        Track                    Album Name          Artist  \\\n",
            "0         MILLION DOLLAR BABY  Million Dollar Baby - Single   Tommy Richman   \n",
            "1                 Not Like Us                   Not Like Us  Kendrick Lamar   \n",
            "2  i like the way you kiss me    I like the way you kiss me         Artemas   \n",
            "3                     Flowers              Flowers - Single     Miley Cyrus   \n",
            "4                     Houdini                       Houdini          Eminem   \n",
            "\n",
            "  Release Date          ISRC All Time Rank  Track Score Spotify Streams  \\\n",
            "0    4/26/2024  QM24S2402528             1        725.4     390,470,936   \n",
            "1     5/4/2024  USUG12400910             2        545.9     323,703,884   \n",
            "2    3/19/2024  QZJ842400387             3        538.4     601,309,283   \n",
            "3    1/12/2023  USSM12209777             4        444.9   2,031,280,633   \n",
            "4    5/31/2024  USUG12403398             5        423.3     107,034,922   \n",
            "\n",
            "  Spotify Playlist Count Spotify Playlist Reach  ...  SiriusXM Spins  \\\n",
            "0                 30,716            196,631,588  ...             684   \n",
            "1                 28,113            174,597,137  ...               3   \n",
            "2                 54,331            211,607,669  ...             536   \n",
            "3                269,802            136,569,078  ...           2,182   \n",
            "4                  7,223            151,469,874  ...               1   \n",
            "\n",
            "  Deezer Playlist Count Deezer Playlist Reach Amazon Playlist Count  \\\n",
            "0                  62.0            17,598,718                 114.0   \n",
            "1                  67.0            10,422,430                 111.0   \n",
            "2                 136.0            36,321,847                 172.0   \n",
            "3                 264.0            24,684,248                 210.0   \n",
            "4                  82.0            17,660,624                 105.0   \n",
            "\n",
            "  Pandora Streams Pandora Track Stations Soundcloud Streams  Shazam Counts  \\\n",
            "0      18,004,655                 22,931          4,818,457      2,669,262   \n",
            "1       7,780,028                 28,444          6,623,075      1,118,279   \n",
            "2       5,022,621                  5,639          7,208,651      5,285,340   \n",
            "3     190,260,277                203,384                NaN     11,822,942   \n",
            "4       4,493,884                  7,006            207,179        457,017   \n",
            "\n",
            "  TIDAL Popularity Explicit Track  \n",
            "0              NaN              0  \n",
            "1              NaN              1  \n",
            "2              NaN              0  \n",
            "3              NaN              0  \n",
            "4              NaN              1  \n",
            "\n",
            "[5 rows x 29 columns]\n",
            "\n",
            "Available columns: ['Track', 'Album Name', 'Artist', 'Release Date', 'ISRC', 'All Time Rank', 'Track Score', 'Spotify Streams', 'Spotify Playlist Count', 'Spotify Playlist Reach', 'Spotify Popularity', 'YouTube Views', 'YouTube Likes', 'TikTok Posts', 'TikTok Likes', 'TikTok Views', 'YouTube Playlist Reach', 'Apple Music Playlist Count', 'AirPlay Spins', 'SiriusXM Spins', 'Deezer Playlist Count', 'Deezer Playlist Reach', 'Amazon Playlist Count', 'Pandora Streams', 'Pandora Track Stations', 'Soundcloud Streams', 'Shazam Counts', 'TIDAL Popularity', 'Explicit Track']\n",
            "\n",
            "Varian (dataset Spotify): 2.8992183913454496e+17\n",
            "Standar deviasi (dataset Spotify): 538443905.28\n"
          ]
        }
      ]
    }
  ]
}