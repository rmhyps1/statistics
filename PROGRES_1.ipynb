{
  "nbformat": 4,
  "nbformat_minor": 0,
  "metadata": {
    "colab": {
      "provenance": [],
      "authorship_tag": "ABX9TyNQSeNZ6v+MzJ1iJGhh5syg",
      "include_colab_link": true
    },
    "kernelspec": {
      "name": "python3",
      "display_name": "Python 3"
    },
    "language_info": {
      "name": "python"
    }
  },
  "cells": [
    {
      "cell_type": "markdown",
      "metadata": {
        "id": "view-in-github",
        "colab_type": "text"
      },
      "source": [
        "<a href=\"https://colab.research.google.com/github/rmhyps1/statistics/blob/main/PROGRES_1.ipynb\" target=\"_parent\"><img src=\"https://colab.research.google.com/assets/colab-badge.svg\" alt=\"Open In Colab\"/></a>"
      ]
    },
    {
      "cell_type": "code",
      "execution_count": 54,
      "metadata": {
        "id": "1QdrOzCp7TcO"
      },
      "outputs": [],
      "source": [
        "import pandas as pd\n",
        "import numpy as np\n",
        "import matplotlib.pyplot as plt\n",
        "import math"
      ]
    },
    {
      "cell_type": "code",
      "source": [
        "# Rumus distribusi frekuensi\n",
        "\n",
        "def distribusi_frekuensi(x, k=\"sturges\"):\n",
        "    n = len(x)\n",
        "    if n == 0:\n",
        "        return [], [], [], [], [], [], []\n",
        "\n",
        "    # gunakan edges dari numpy\n",
        "    edges = np.histogram_bin_edges(x, bins=k)\n",
        "    k = len(edges) - 1\n",
        "    i = edges[1] - edges[0]  # lebar interval\n",
        "\n",
        "    mid = [edges[q] + 0.5 * i for q in range(k)]\n",
        "    f, _ = np.histogram(x, bins=edges)\n",
        "\n",
        "    fr = f / n\n",
        "    fk = np.cumsum(f)\n",
        "    frk = fk / n\n",
        "\n",
        "    rows = []\n",
        "    for q in range(k):\n",
        "        left = edges[q]\n",
        "        right = edges[q+1]\n",
        "        label = f\"[{left}, {right})\" if q < k-1 else f\"[{left}, {right}]\"\n",
        "        rows.append({\n",
        "            \"interval\": label,\n",
        "            \"midpoint\": mid[q],\n",
        "            \"f\": int(f[q]),\n",
        "            \"fr\": fr[q],\n",
        "            \"fk\": int(fk[q]),\n",
        "            \"frk\": frk[q]\n",
        "        })\n",
        "\n",
        "    return rows, edges, mid, f, fr, fk, frk"
      ],
      "metadata": {
        "id": "tCHHV0dT7bCt"
      },
      "execution_count": 55,
      "outputs": []
    },
    {
      "cell_type": "code",
      "source": [
        "# Percobaan menggunakan dataset berat badan\n",
        "data = [128,63,97,134,133,136,125,110,118,94,\n",
        "        76,84,132,105,80,87,100,77,120,109,\n",
        "        90,72,103,78,94,118,117,80,140,94]\n",
        "\n",
        "n = len(data)\n",
        "\n",
        "# edges & counts pakai aturan Sturges\n",
        "edges = np.histogram_bin_edges(data, bins=\"sturges\")\n",
        "counts, edges = np.histogram(data, bins=edges)\n",
        "\n",
        "# hitung nilai tengah tiap kelas\n",
        "mid = (edges[:-1] + edges[1:]) / 2.0\n",
        "\n",
        "# frekuensi relatif & kumulatif\n",
        "fk = np.cumsum(counts)\n",
        "fr = counts / n\n",
        "frk = fk / n\n",
        "\n",
        "# buat tabel\n",
        "rows = []\n",
        "for left, right, m, c, r, cum, rcum in zip(edges[:-1], edges[1:], mid, counts, fr, fk, frk):\n",
        "    left_str = f\"{left:g}\"\n",
        "    right_str = f\"{right:g}\"\n",
        "    label = f\"[{left_str}, {right_str})\"\n",
        "    rows.append({\n",
        "        \"interval\": label,\n",
        "        \"midpoint\": m,\n",
        "        \"f\": int(c),\n",
        "        \"fr\": float(r),\n",
        "        \"fk\": int(cum),\n",
        "        \"frk\": float(rcum)\n",
        "    })\n",
        "df = pd.DataFrame(rows)\n",
        "\n",
        "# tampilkan rapi\n",
        "df_print = pd.DataFrame({\n",
        "    \"Interval\": df[\"interval\"],\n",
        "    \"Midpoint\": df[\"midpoint\"].map(lambda x: f\"{x:8.1f}\"),\n",
        "    \"f\": df[\"f\"].map(lambda x: f\"{x:4d}\"),\n",
        "    \"fr\": df[\"fr\"].map(lambda x: f\"{x:8.4f}\"),\n",
        "    \"fk\": df[\"fk\"].map(lambda x: f\"{x:4d}\"),\n",
        "    \"frk\": df[\"frk\"].map(lambda x: f\"{x:8.4f}\")\n",
        "})\n",
        "\n",
        "# cetak ringkasan\n",
        "print(f\"\\nn = {n}, k = {len(counts)}\")  # k dari histogram (aturan Sturges)\n",
        "interval_widths = np.diff(edges)        # lebar tiap kelas\n",
        "print(f\"Interval width i ≈ {interval_widths[0]:.2f}\\n\")  # ambil lebar pertama\n",
        "\n",
        "print(df_print.to_string(index=False))"
      ],
      "metadata": {
        "colab": {
          "base_uri": "https://localhost:8080/"
        },
        "id": "BHASfxd97zA1",
        "outputId": "29e68461-41c8-4be4-af6a-9f1453b2fab6"
      },
      "execution_count": 56,
      "outputs": [
        {
          "output_type": "stream",
          "name": "stdout",
          "text": [
            "\n",
            "n = 30, k = 6\n",
            "Interval width i ≈ 12.83\n",
            "\n",
            "          Interval Midpoint    f       fr   fk      frk\n",
            "     [63, 75.8333)     69.4    2   0.0667    2   0.0667\n",
            "[75.8333, 88.6667)     82.2    7   0.2333    9   0.3000\n",
            "  [88.6667, 101.5)     95.1    6   0.2000   15   0.5000\n",
            "  [101.5, 114.333)    107.9    4   0.1333   19   0.6333\n",
            "[114.333, 127.167)    120.8    5   0.1667   24   0.8000\n",
            "    [127.167, 140)    133.6    6   0.2000   30   1.0000\n"
          ]
        }
      ]
    },
    {
      "cell_type": "code",
      "source": [
        "import pandas as pd\n",
        "import numpy as np\n",
        "\n",
        "# 1. Baca data\n",
        "file_path = '/content/Most Streamed Spotify Songs 2024.csv'\n",
        "df = pd.read_csv(file_path, encoding='latin1')\n",
        "\n",
        "# 2. Kolom target\n",
        "kolom_numerik = 'Spotify Streams'\n",
        "\n",
        "# 3. Bersihin data -> buang koma biar bisa jadi angka\n",
        "df[kolom_numerik] = df[kolom_numerik].replace(\",\", \"\", regex=True).astype(float)\n",
        "\n",
        "# 4. Ambil data numerik & drop NaN\n",
        "data = df[kolom_numerik].dropna().values\n",
        "\n",
        "# 5. Tentuin jumlah interval (k) pakai Sturges atau manual\n",
        "n = len(data)\n",
        "k = int(1 + 3.3 * np.log10(n))   # aturan Sturges\n",
        "\n",
        "# 6. Hitung min, max, range, interval\n",
        "min_val = data.min()\n",
        "max_val = data.max()\n",
        "range_val = max_val - min_val\n",
        "interval = np.ceil(range_val / k)\n",
        "\n",
        "# 7. Bikin batas interval\n",
        "bins = [min_val + i*interval for i in range(k+1)]\n",
        "\n",
        "# 8. Hitung frekuensi pakai np.histogram\n",
        "freq, edges = np.histogram(data, bins=bins)\n",
        "\n",
        "# 9. Hitung titik tengah interval\n",
        "midpoints = (edges[:-1] + edges[1:]) / 2\n",
        "\n",
        "# 10. Frekuensi relatif & kumulatif\n",
        "rel_freq = freq / freq.sum()\n",
        "cum_freq = np.cumsum(freq)\n",
        "\n",
        "# 11. Buat tabel hasil\n",
        "tabel = pd.DataFrame({\n",
        "    'Interval': [f'{int(edges[i])} - {int(edges[i+1])}' for i in range(len(freq))],\n",
        "    'Midpoint': np.round(midpoints, 2),\n",
        "    'Frequency': freq,\n",
        "    'Relative Frequency': np.round(rel_freq, 4),\n",
        "    'Cumulative Frequency': cum_freq\n",
        "})\n",
        "\n",
        "print(\"Distribusi Frekuensi Spotify Streams\")\n",
        "print(tabel)\n",
        ""
      ],
      "metadata": {
        "colab": {
          "base_uri": "https://localhost:8080/"
        },
        "id": "Lutqb8pg9M-n",
        "outputId": "8b1cc9d3-143e-4c6b-dc85-2de535b80f7e"
      },
      "execution_count": 57,
      "outputs": [
        {
          "output_type": "stream",
          "name": "stdout",
          "text": [
            "Distribusi Frekuensi Spotify Streams\n",
            "                   Interval      Midpoint  Frequency  Relative Frequency  \\\n",
            "0          1071 - 329344737  1.646729e+08       2578              0.5745   \n",
            "1     329344737 - 658688403  4.940166e+08        845              0.1883   \n",
            "2     658688403 - 988032069  8.233602e+08        451              0.1005   \n",
            "3    988032069 - 1317375735  1.152704e+09        239              0.0533   \n",
            "4   1317375735 - 1646719401  1.482048e+09        168              0.0374   \n",
            "5   1646719401 - 1976063067  1.811391e+09        101              0.0225   \n",
            "6   1976063067 - 2305406733  2.140735e+09         59              0.0131   \n",
            "7   2305406733 - 2634750399  2.470079e+09         24              0.0053   \n",
            "8   2634750399 - 2964094065  2.799422e+09          6              0.0013   \n",
            "9   2964094065 - 3293437731  3.128766e+09          8              0.0018   \n",
            "10  3293437731 - 3622781397  3.458110e+09          4              0.0009   \n",
            "11  3622781397 - 3952125063  3.787453e+09          2              0.0004   \n",
            "12  3952125063 - 4281468729  4.116797e+09          2              0.0004   \n",
            "\n",
            "    Cumulative Frequency  \n",
            "0                   2578  \n",
            "1                   3423  \n",
            "2                   3874  \n",
            "3                   4113  \n",
            "4                   4281  \n",
            "5                   4382  \n",
            "6                   4441  \n",
            "7                   4465  \n",
            "8                   4471  \n",
            "9                   4479  \n",
            "10                  4483  \n",
            "11                  4485  \n",
            "12                  4487  \n"
          ]
        }
      ]
    }
  ]
}